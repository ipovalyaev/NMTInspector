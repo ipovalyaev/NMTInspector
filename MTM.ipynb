{
 "cells": [
  {
   "cell_type": "code",
   "execution_count": null,
   "metadata": {
    "collapsed": true
   },
   "outputs": [],
   "source": [
    "# Some manual analysis of embedding done during MTM marathon 2018\n",
    "# to generate embedding used file emb_gen.sh"
   ]
  },
  {
   "cell_type": "code",
   "execution_count": null,
   "metadata": {
    "collapsed": true
   },
   "outputs": [],
   "source": [
    "import numpy as np"
   ]
  },
  {
   "cell_type": "code",
   "execution_count": null,
   "metadata": {
    "collapsed": true
   },
   "outputs": [],
   "source": [
    "def read_avg_embed(filename):\n",
    "    emb_p=[]\n",
    "    emb_p_idx=[]\n",
    "    emb_avg = []\n",
    "    embed_file=open(filename,'rt')\n",
    "    prev_sent_num=-1\n",
    "    for l in embed_file:\n",
    "        l1=l.split(' ')\n",
    "        sent_num = l1[0].split('T')[0].split('S')[1]\n",
    "        emb_this = np.array([float(i) for i in str(l1[1]).split(',')])\n",
    "        if (sent_num==prev_sent_num):\n",
    "            cnt+=1\n",
    "            emb_avg[-1]=emb_avg[-1]+emb_this            \n",
    "        else:\n",
    "            if (len(emb_avg)>0):\n",
    "                emb_avg[-1]/=(cnt+1)\n",
    "            cnt=0\n",
    "            emb_avg.append(emb_this)\n",
    "            prev_sent_num=sent_num\n",
    "        emb_p_idx.append(l1[0])\n",
    "        emb_p.append(emb_this)\n",
    "    #processing the last\n",
    "    emb_avg[-1]/=(cnt+1)\n",
    "    \n",
    "    embed_file.close()\n",
    "    #return [np.array(emb_p_idx), np.array(emb_p, dtype=float), np.array(emb_avg)]\n",
    "    return np.array(emb_avg)"
   ]
  },
  {
   "cell_type": "code",
   "execution_count": null,
   "metadata": {
    "collapsed": true
   },
   "outputs": [],
   "source": [
    "def read_first_embed(filename):\n",
    "    emb_p=[]\n",
    "    emb_avg = []\n",
    "    embed_file=open(filename,'rt')\n",
    "    prev_sent_num=-1\n",
    "    for l in embed_file:\n",
    "        l1=l.split(' ')\n",
    "        sent_num = l1[0].split('T')[0].split('S')[1]\n",
    "        emb_this = np.array([float(i) for i in str(l1[1]).split(',')])\n",
    "        if (sent_num!=prev_sent_num):\n",
    "            prev_sent_num=sent_num\n",
    "            emb_p.append(emb_this)\n",
    "    embed_file.close()\n",
    "    return np.array(emb_p)"
   ]
  },
  {
   "cell_type": "code",
   "execution_count": null,
   "metadata": {
    "collapsed": true
   },
   "outputs": [],
   "source": [
    "def read_each_embed(filename):\n",
    "    emb_p=[]\n",
    "    emb_p_idx=[]\n",
    "    embed_file=open(filename,'rt')\n",
    "    prev_sent_num=-1\n",
    "    for l in embed_file:\n",
    "        l1=l.split(' ')\n",
    "        sent_num = l1[0].split('T')[0].split('S')[1]\n",
    "        emb_this = np.array([float(i) for i in str(l1[1]).split(',')])\n",
    "        emb_p_idx.append(l1[0])\n",
    "        emb_p.append(emb_this)\n",
    "\n",
    "    embed_file.close()\n",
    "    #return [np.array(emb_p_idx), np.array(emb_p, dtype=float)]\n",
    "    return np.array(emb_p, dtype=float)"
   ]
  },
  {
   "cell_type": "code",
   "execution_count": null,
   "metadata": {
    "collapsed": true
   },
   "outputs": [],
   "source": [
    "def read_emb(filename, emb_type):\n",
    "    return {\n",
    "        'avg':lambda x:read_avg_embed(x),\n",
    "        'first': lambda x: read_first_embed(x),\n",
    "        'each': lambda x: read_each_embed(x)\n",
    "    }[emb_type](filename)"
   ]
  },
  {
   "cell_type": "code",
   "execution_count": null,
   "metadata": {
    "collapsed": true
   },
   "outputs": [],
   "source": [
    "def cosine_sim(A):\n",
    "    similarity = np.dot(A, A.T)\n",
    "    square_mag = np.diag(similarity)\n",
    "    inv_square_mag = 1 / square_mag\n",
    "    inv_square_mag[np.isinf(inv_square_mag)] = 0\n",
    "    inv_mag = np.sqrt(inv_square_mag)\n",
    "\n",
    "    cosine = similarity * inv_mag\n",
    "    cosine = cosine.T * inv_mag\n",
    "    return cosine\n",
    "    "
   ]
  },
  {
   "cell_type": "code",
   "execution_count": null,
   "metadata": {
    "collapsed": true
   },
   "outputs": [],
   "source": [
    "langs = ['ar','de', 'fa', 'ko', 'ru', 'zh']"
   ]
  },
  {
   "cell_type": "code",
   "execution_count": null,
   "metadata": {
    "collapsed": true
   },
   "outputs": [],
   "source": [
    "# types = {'context': ['avg', 'first', 'each'],\n",
    "#          'hidden':['avg', 'first' ]}\n",
    "types = {'hidden': ['avg', 'first'],\n",
    "         'context':['avg', 'first' ]}"
   ]
  },
  {
   "cell_type": "code",
   "execution_count": null,
   "metadata": {},
   "outputs": [],
   "source": [
    "means={}\n",
    "N3 = {}\n",
    "for t in types:\n",
    "    means[t]={}\n",
    "    N3[t]={}\n",
    "    for t2 in types[t]:\n",
    "        means[t][t2]={}\n",
    "        N3[t][t2]={}\n",
    "        emb = {}\n",
    "        for l in langs:\n",
    "            filename = 'outdir/ted.%s-en.test.bpe.%s_%s'%(l,l,t)\n",
    "            print('loading %s with type = %s,%s...'%(filename,t,t2))\n",
    "            emb[l] = read_emb(filename,t2)\n",
    "        for l in langs:\n",
    "            means[t][t2][l] = {}\n",
    "            N3[t][t2][l]={}\n",
    "            for l2 in langs:\n",
    "#                if (l!=l2):\n",
    "                    all_emb = np.append(emb[l], emb[l2], axis = 0)\n",
    "                    sim_matrix = cosine_sim(all_emb)\n",
    "                    avgs_d = []\n",
    "                    size = np.shape(emb[l])[0]\n",
    "                    for i in range(size):\n",
    "                        avgs_d.append(sim_matrix[i,i+size])\n",
    "                    means[t][t2][l][l2] = np.mean(np.array(avgs_d))\n",
    "                    print(\"%s %s %s %s\"%(t,t2,l,l2))\n",
    "                    print(means[t][t2][l][l2])\n",
    "                    cnt1=0\n",
    "                    cnt3=0\n",
    "                    sim_nums =  np.argsort(sim_matrix, axis=1).T\n",
    "                    nn3 = sim_nums[-4:]\n",
    "                    for i in range(size):\n",
    "                        if (nn3[2][i]==i+size):\n",
    "                            cnt1+=1\n",
    "                        for j in range(3):\n",
    "                            if (nn3[j][i]==i+size):\n",
    "                                cnt3+=1\n",
    "                    N3[t][t2][l][l2] = cnt3/size\n",
    "                    print(cnt1/size)\n",
    "                    print(N3[t][t2][l][l2])\n",
    "                                    \n",
    "                \n",
    "                "
   ]
  },
  {
   "cell_type": "code",
   "execution_count": null,
   "metadata": {},
   "outputs": [],
   "source": [
    "np.mean(sim_matrix[0:2*size,0:2*size])"
   ]
  },
  {
   "cell_type": "code",
   "execution_count": null,
   "metadata": {},
   "outputs": [],
   "source": [
    "sim_nums =  np.argsort(sim_matrix, axis=1).T\n",
    "nn3 = sim_nums[-4:]"
   ]
  },
  {
   "cell_type": "code",
   "execution_count": null,
   "metadata": {},
   "outputs": [],
   "source": [
    "## Prining matrices for report\n",
    "for l in langs:\n",
    "    s=''\n",
    "    for l2 in langs:\n",
    "        #s+='%.2f'%(means['hidden']['avg'][l][l2]*100)\n",
    "        s+='%.2f'%(N3['context']['first'][l][l2]*100)\n",
    "        s+=','\n",
    "    print(s)"
   ]
  },
  {
   "cell_type": "code",
   "execution_count": null,
   "metadata": {},
   "outputs": [],
   "source": [
    "cnt1=0\n",
    "cnt3=0\n",
    "for i in range(size):\n",
    "    if (nn3[2][i]==i+size):\n",
    "        cnt1+=1\n",
    "    for j in range(3):\n",
    "        if (nn3[j][i]==i+size):\n",
    "            cnt3+=1\n",
    "print(cnt1/size)\n",
    "print(cnt3/size)"
   ]
  },
  {
   "cell_type": "code",
   "execution_count": null,
   "metadata": {
    "collapsed": true
   },
   "outputs": [],
   "source": [
    "ar_en_context_first = read_first_embed('outdir/ted.ar-en.dev.bpe.ar_context')\n",
    "de_en_context_first = read_first_embed('outdir/ted.de-en.dev.bpe.de_context')"
   ]
  },
  {
   "cell_type": "code",
   "execution_count": null,
   "metadata": {
    "collapsed": true
   },
   "outputs": [],
   "source": [
    "# word context level based similarity\n",
    "test_mx_ar_vs_de = np.append(ar_en_context[0:124],de_en_context[0:124], axis=0)\n",
    "sim_matrix_ar_vs_de_context=cosine_sim(test_mx_ar_vs_de)"
   ]
  },
  {
   "cell_type": "code",
   "execution_count": null,
   "metadata": {},
   "outputs": [],
   "source": [
    "# similarity of english to deutch\n",
    "[np.mean(sim_matrix_ar_vs_de_context[0:124,124:248]) , \n",
    "np.std(sim_matrix_ar_vs_de_context[0:124,124:248]) ]"
   ]
  },
  {
   "cell_type": "code",
   "execution_count": null,
   "metadata": {},
   "outputs": [],
   "source": [
    "# similarity of deutch to deutch \n",
    "[np.mean(np.abs(sim_matrix_ar_vs_de_context[0:124,0:124])),\n",
    " np.std(np.abs(sim_matrix_ar_vs_de_context[0:124,0:124]))]"
   ]
  },
  {
   "cell_type": "code",
   "execution_count": null,
   "metadata": {},
   "outputs": [],
   "source": [
    "avgs_d = []\n",
    "for i in range(124):\n",
    "    avgs_d.append(sim_matrix_ar_vs_de_context[i,i+124])\n",
    "[np.mean(np.array(avgs_d)),np.std(np.array(avgs_d))]"
   ]
  },
  {
   "cell_type": "code",
   "execution_count": null,
   "metadata": {
    "collapsed": true
   },
   "outputs": [],
   "source": [
    "# avg context vector based similarities\n",
    "\n",
    "\n",
    "test_mx_seq_avg = np.append(ar_en_context_avg,de_en_context_avg, axis=0)"
   ]
  },
  {
   "cell_type": "code",
   "execution_count": null,
   "metadata": {
    "collapsed": true
   },
   "outputs": [],
   "source": [
    "sim_matrix_seq_avg=cosine_sim(test_mx_seq_avg)"
   ]
  },
  {
   "cell_type": "code",
   "execution_count": null,
   "metadata": {},
   "outputs": [],
   "source": [
    "[np.mean(sim_matrix_seq_avg[0:1958,1958:3916]) , \n",
    "np.std(sim_matrix_seq_avg[0:1958,1958:3916])]"
   ]
  },
  {
   "cell_type": "code",
   "execution_count": null,
   "metadata": {},
   "outputs": [],
   "source": [
    "[np.mean(sim_matrix_seq_avg[0:1958,0:1958]) , \n",
    "np.std(sim_matrix_seq_avg[0:1958,0:1958])]"
   ]
  },
  {
   "cell_type": "code",
   "execution_count": null,
   "metadata": {
    "collapsed": true
   },
   "outputs": [],
   "source": [
    "avgs_h = []\n",
    "for i in range(1958):\n",
    "    avgs_h.append(sim_matrix_seq_avg[i,i+1958])"
   ]
  },
  {
   "cell_type": "code",
   "execution_count": null,
   "metadata": {},
   "outputs": [],
   "source": [
    "[np.mean(np.array(avgs_h)),np.std(np.array(avgs_h))]"
   ]
  },
  {
   "cell_type": "code",
   "execution_count": null,
   "metadata": {
    "collapsed": true
   },
   "outputs": [],
   "source": [
    "# difference vector (avegare over first 40K context vectors)\n",
    "diff_avg_vector = np.average(de_en_context[0:40825]-ar_en_context[0:40825], axis=0)"
   ]
  },
  {
   "cell_type": "code",
   "execution_count": null,
   "metadata": {
    "collapsed": true
   },
   "outputs": [],
   "source": [
    "supposed = de_en_context[0:1000]+diff_avg_vector"
   ]
  },
  {
   "cell_type": "code",
   "execution_count": null,
   "metadata": {
    "collapsed": true
   },
   "outputs": [],
   "source": [
    "actual =  ar_en_context[0:1000]"
   ]
  },
  {
   "cell_type": "code",
   "execution_count": null,
   "metadata": {
    "collapsed": true
   },
   "outputs": [],
   "source": [
    "sim_mx = np.append(supposed,actual, axis = 0)"
   ]
  },
  {
   "cell_type": "code",
   "execution_count": null,
   "metadata": {
    "collapsed": true
   },
   "outputs": [],
   "source": [
    "sim_mx = cosine_sim(sim_mx)"
   ]
  },
  {
   "cell_type": "code",
   "execution_count": null,
   "metadata": {},
   "outputs": [],
   "source": [
    "avgs_sh = []\n",
    "for i in range(1000):\n",
    "    avgs_sh.append(sim_mx[i,i+1000])\n",
    "[np.mean(np.array(avgs_sh)),np.std(np.array(avgs_sh))]"
   ]
  },
  {
   "cell_type": "code",
   "execution_count": null,
   "metadata": {
    "collapsed": true
   },
   "outputs": [],
   "source": [
    "sim_nums =  np.argsort(sim_matrix_seq_avg, axis=1).T"
   ]
  },
  {
   "cell_type": "code",
   "execution_count": null,
   "metadata": {},
   "outputs": [],
   "source": [
    "nn3 = sim_nums[-4:]"
   ]
  },
  {
   "cell_type": "code",
   "execution_count": null,
   "metadata": {},
   "outputs": [],
   "source": [
    "cnt=0\n",
    "for i in range(1958):\n",
    "    if (nn3[3][i]==i):\n",
    "        cnt+=1\n",
    "cnt"
   ]
  },
  {
   "cell_type": "code",
   "execution_count": null,
   "metadata": {},
   "outputs": [],
   "source": [
    "cnt=0\n",
    "for i in range(1958):\n",
    "    if (nn3[0][i]==i+1958):\n",
    "        cnt+=1\n",
    "    if (nn3[2][i]==i+1958):\n",
    "        cnt+=1        \n",
    "    if (nn3[1][i]==i+1958):\n",
    "        cnt+=1        \n",
    "cnt/1958.0"
   ]
  },
  {
   "cell_type": "code",
   "execution_count": null,
   "metadata": {},
   "outputs": [],
   "source": [
    "cnt=0\n",
    "for i in range(1958):\n",
    "    if (nn3[0][i]==i+1958):\n",
    "        cnt+=1\n",
    "cnt/1958.0"
   ]
  },
  {
   "cell_type": "code",
   "execution_count": null,
   "metadata": {
    "collapsed": true
   },
   "outputs": [],
   "source": [
    "test_mx_seq_first = np.append(ar_en_context_first,de_en_context_first, axis=0)"
   ]
  },
  {
   "cell_type": "code",
   "execution_count": null,
   "metadata": {
    "collapsed": true
   },
   "outputs": [],
   "source": [
    "sim_matrix_seq_first=cosine_sim(test_mx_seq_first)"
   ]
  },
  {
   "cell_type": "code",
   "execution_count": null,
   "metadata": {
    "collapsed": true
   },
   "outputs": [],
   "source": [
    "sim_nums_first =  np.argsort(sim_matrix_seq_first, axis=1).T"
   ]
  },
  {
   "cell_type": "code",
   "execution_count": null,
   "metadata": {
    "collapsed": true
   },
   "outputs": [],
   "source": [
    "nn3 = sim_nums_first[-4:]"
   ]
  },
  {
   "cell_type": "code",
   "execution_count": null,
   "metadata": {
    "collapsed": true
   },
   "outputs": [],
   "source": []
  }
 ],
 "metadata": {
  "kernelspec": {
   "display_name": "Python 3",
   "language": "python",
   "name": "python3"
  },
  "language_info": {
   "codemirror_mode": {
    "name": "ipython",
    "version": 3
   },
   "file_extension": ".py",
   "mimetype": "text/x-python",
   "name": "python",
   "nbconvert_exporter": "python",
   "pygments_lexer": "ipython3",
   "version": "3.5.2"
  }
 },
 "nbformat": 4,
 "nbformat_minor": 2
}
